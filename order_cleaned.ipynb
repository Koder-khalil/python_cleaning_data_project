{
 "cells": [
  {
   "cell_type": "code",
   "execution_count": 1,
   "metadata": {},
   "outputs": [],
   "source": [
    "import numpy as np\n",
    "import pandas as pd"
   ]
  },
  {
   "cell_type": "code",
   "execution_count": 2,
   "id": "e2b24db3",
   "metadata": {},
   "outputs": [
    {
     "name": "stdout",
     "output_type": "stream",
     "text": [
      "   OrderID CustomerID   OrderDate ShippedDate        ShippingCost ShipCountry  \\\n",
      "0   1000.0       C001  2025-05-17  2025-07-30  -57.25454602444980     Germany   \n",
      "1   1001.0       C002  2025-01-26  2025-07-30              320.61      Canada   \n",
      "2   1002.0       C003  2025-03-08  2025-07-30              165.17      Canada   \n",
      "3   1003.0       C004  2025-03-24  2025-07-30               12.55     Germany   \n",
      "4   1004.0       C005  2025-04-15  2025-07-30              186.36      Canada   \n",
      "\n",
      "    ShipCity                 ShippingCompany  \n",
      "0    Hamburg  Kiwilytics Goods Shipping LLC.  \n",
      "1   Montreal                   UPS Worldwide  \n",
      "2  Vancouver                 FedEx Logistics  \n",
      "3     Munich            Aramex International  \n",
      "4  Vancouver                 FedEx Logistics  \n"
     ]
    }
   ],
   "source": [
    "df = pd.read_csv('Orders_with_issues.csv')\n",
    "# previews THE Dataframe\n",
    "\n",
    "print(df.head())"
   ]
  },
  {
   "cell_type": "code",
   "execution_count": 3,
   "id": "6dde7fa9",
   "metadata": {},
   "outputs": [
    {
     "name": "stdout",
     "output_type": "stream",
     "text": [
      "<class 'pandas.core.frame.DataFrame'>\n",
      "RangeIndex: 245 entries, 0 to 244\n",
      "Data columns (total 8 columns):\n",
      " #   Column           Non-Null Count  Dtype  \n",
      "---  ------           --------------  -----  \n",
      " 0   OrderID          239 non-null    float64\n",
      " 1   CustomerID       240 non-null    object \n",
      " 2   OrderDate        237 non-null    object \n",
      " 3   ShippedDate      219 non-null    object \n",
      " 4   ShippingCost     231 non-null    object \n",
      " 5   ShipCountry      245 non-null    object \n",
      " 6   ShipCity         241 non-null    object \n",
      " 7   ShippingCompany  245 non-null    object \n",
      "dtypes: float64(1), object(7)\n",
      "memory usage: 15.4+ KB\n",
      "None\n"
     ]
    }
   ],
   "source": [
    "# Summary statistics for Dataframe\n",
    "print(df.info())"
   ]
  },
  {
   "cell_type": "code",
   "execution_count": 4,
   "id": "7f5f7132",
   "metadata": {},
   "outputs": [
    {
     "name": "stdout",
     "output_type": "stream",
     "text": [
      "OrderID             6\n",
      "CustomerID          5\n",
      "OrderDate           8\n",
      "ShippedDate        26\n",
      "ShippingCost       14\n",
      "ShipCountry         0\n",
      "ShipCity            4\n",
      "ShippingCompany     0\n",
      "dtype: int64\n"
     ]
    }
   ],
   "source": [
    "# check for missing values\n",
    "print(df.isna().sum())"
   ]
  },
  {
   "cell_type": "code",
   "execution_count": 5,
   "id": "88476951",
   "metadata": {},
   "outputs": [
    {
     "name": "stdout",
     "output_type": "stream",
     "text": [
      "['Kiwilytics Goods Shipping LLC.' 'UPS Worldwide' 'FedEx Logistics'\n",
      " 'Aramex International' 'DHL Express']\n",
      "ShippingCompany\n",
      "FedEx Logistics                   54\n",
      "DHL Express                       53\n",
      "Aramex International              51\n",
      "UPS Worldwide                     46\n",
      "Kiwilytics Goods Shipping LLC.    41\n",
      "Name: count, dtype: int64\n",
      "['Germany' 'Canada' 'USA' 'Egypt' 'UK' 'Palestine']\n",
      "ShipCountry\n",
      "UK           56\n",
      "USA          49\n",
      "Canada       45\n",
      "Egypt        41\n",
      "Germany      38\n",
      "Palestine    16\n",
      "Name: count, dtype: int64\n"
     ]
    }
   ],
   "source": [
    "# unique shipping companys\n",
    "\n",
    "print(df['ShippingCompany'].unique())\n",
    "\n",
    "# counts of unique shipping companies\n",
    "\n",
    "print(df['ShippingCompany'].value_counts(ascending=False))\n",
    "\n",
    "# unique ShippingCountrys\n",
    "print(df['ShipCountry'].unique())\n",
    "\n",
    "# counts of unique shipping countries\n",
    "\n",
    "print(df['ShipCountry'].value_counts(ascending=False))"
   ]
  },
  {
   "cell_type": "code",
   "execution_count": 6,
   "id": "23a9ac22",
   "metadata": {},
   "outputs": [
    {
     "name": "stdout",
     "output_type": "stream",
     "text": [
      "           OrderID\n",
      "count   239.000000\n",
      "mean   1121.610879\n",
      "std      71.057522\n",
      "min    1000.000000\n",
      "25%    1060.500000\n",
      "50%    1122.000000\n",
      "75%    1182.500000\n",
      "max    1244.000000\n"
     ]
    }
   ],
   "source": [
    "print(df.describe())"
   ]
  },
  {
   "cell_type": "code",
   "execution_count": 7,
   "id": "a5bab014",
   "metadata": {},
   "outputs": [
    {
     "name": "stdout",
     "output_type": "stream",
     "text": [
      "   OrderID CustomerID   OrderDate ShippedDate        ShippingCost ShipCountry  \\\n",
      "0   1000.0       C001  2025-05-17  2025-07-30  -57.25454602444980     Germany   \n",
      "1   1001.0       C002  2025-01-26  2025-07-30              320.61      Canada   \n",
      "2   1002.0       C003  2025-03-08  2025-07-30              165.17      Canada   \n",
      "3   1003.0       C004  2025-03-24  2025-07-30               12.55     Germany   \n",
      "4   1004.0       C005  2025-04-15  2025-07-30              186.36      Canada   \n",
      "5   1005.0       C006  2024-12-24  2025-07-30               74.93         USA   \n",
      "6   1006.0       C007         NaN  2025-07-30              229.93         USA   \n",
      "7   1007.0       C008  2024-08-10  2025-07-30              209.94     Germany   \n",
      "8   1008.0       C009  2025-02-06  2025-07-30                 NaN         USA   \n",
      "9   1009.0       C010  not_a_date  2025-07-30              394.37         USA   \n",
      "\n",
      "      ShipCity                 ShippingCompany  \n",
      "0      Hamburg  Kiwilytics Goods Shipping LLC.  \n",
      "1     Montreal                   UPS Worldwide  \n",
      "2    Vancouver                 FedEx Logistics  \n",
      "3       Munich            Aramex International  \n",
      "4    Vancouver                 FedEx Logistics  \n",
      "5     New York                   UPS Worldwide  \n",
      "6  Los Angeles            Aramex International  \n",
      "7       Berlin            Aramex International  \n",
      "8      Houston                     DHL Express  \n",
      "9      Chicago  Kiwilytics Goods Shipping LLC.  \n"
     ]
    }
   ],
   "source": [
    "print(df.head(10))"
   ]
  },
  {
   "cell_type": "code",
   "execution_count": 8,
   "id": "b5dfafd4",
   "metadata": {},
   "outputs": [
    {
     "name": "stdout",
     "output_type": "stream",
     "text": [
      "OrderID                   float64\n",
      "CustomerID                 object\n",
      "OrderDate          datetime64[ns]\n",
      "ShippedDate        datetime64[ns]\n",
      "ShippingCost               object\n",
      "ShipCountry                object\n",
      "ShipCity                   object\n",
      "ShippingCompany            object\n",
      "dtype: object\n"
     ]
    }
   ],
   "source": [
    "# convert orderdate to datetime\n",
    "\n",
    "df['OrderDate']= pd.to_datetime(df['OrderDate'],errors='coerce')\n",
    "\n",
    "# convert shippingdate to datetime\n",
    "\n",
    "df['ShippedDate']= pd.to_datetime(df['ShippedDate'],errors='coerce')\n",
    "\n",
    "# check datatypes\n",
    "print(df.dtypes)\n",
    "\n",
    "# convert shippingCost to numeric\n",
    "df[\"ShippingCost\"]= pd.to_numeric(df[\"ShippingCost\"],errors='coerce')\n",
    "\n",
    "# change negative shippingcost to null value\n",
    "\n",
    "df.loc[df['ShippingCost']<0,'ShippingCost']=np.nan\n",
    "\n",
    "df['ShippingCost'] = df['ShippingCost'].fillna(df['ShippingCost'].median())"
   ]
  },
  {
   "cell_type": "code",
   "execution_count": null,
   "id": "40882846",
   "metadata": {},
   "outputs": [],
   "source": []
  },
  {
   "cell_type": "code",
   "execution_count": 11,
   "id": "0e26a90a",
   "metadata": {},
   "outputs": [
    {
     "name": "stdout",
     "output_type": "stream",
     "text": [
      "OrderID is Nulls =  0\n",
      "CustomerID is Nulls =  0\n",
      "ShipCity is nulls =  0\n"
     ]
    },
    {
     "name": "stderr",
     "output_type": "stream",
     "text": [
      "C:\\Users\\khalil\\AppData\\Local\\Temp\\ipykernel_11336\\2135184549.py:2: FutureWarning: Series.fillna with 'method' is deprecated and will raise in a future version. Use obj.ffill() or obj.bfill() instead.\n",
      "  df['OrderID'] = df[\"OrderID\"].fillna(method='ffill')\n"
     ]
    }
   ],
   "source": [
    "# handle missing values in orderId Fill First row data\n",
    "df['OrderID'] = df[\"OrderID\"].fillna(method='ffill')\n",
    "\n",
    "print('OrderID is Nulls = ',df['OrderID'].isna().sum())\n",
    "\n",
    "# handle missing values in CustomerID fill with unknown\n",
    "\n",
    "df['CustomerID'] = df['CustomerID'].fillna('Unknown')\n",
    "\n",
    "print('CustomerID is Nulls = ',df['CustomerID'].isna().sum())\n",
    "\n",
    "# handle missing values in Shipcity fill with unspecified\n",
    "\n",
    "df['ShipCity']= df['ShipCity'].fillna('Unspecified')\n",
    "\n",
    "print(\"ShipCity is nulls = \",df['ShipCity'].isna().sum())\n",
    "\n",
    "\n"
   ]
  },
  {
   "cell_type": "code",
   "execution_count": 24,
   "id": "fa758b30",
   "metadata": {},
   "outputs": [],
   "source": [
    "# Standardize Names \n",
    "\n",
    "df['ShipCountry'] = df['ShipCountry'].str.strip().str.title()\n",
    "df['ShipCity'] = df['ShipCity'].str.strip().str.title()\n",
    "\n",
    "df['ShippingCompany'] = df['ShippingCompany'].str.strip()\n",
    "\n",
    "df.loc[df['ShippingCompany'].str.contains('Kiwilytics',na=False),'ShippingCompany']='Kiwilytics Goods Shipping LLC.'"
   ]
  },
  {
   "cell_type": "markdown",
   "id": "8553a42e",
   "metadata": {},
   "source": [
    " Feauter Engineering"
   ]
  },
  {
   "cell_type": "code",
   "execution_count": 13,
   "id": "968a50c4",
   "metadata": {},
   "outputs": [
    {
     "data": {
      "text/html": [
       "<div>\n",
       "<style scoped>\n",
       "    .dataframe tbody tr th:only-of-type {\n",
       "        vertical-align: middle;\n",
       "    }\n",
       "\n",
       "    .dataframe tbody tr th {\n",
       "        vertical-align: top;\n",
       "    }\n",
       "\n",
       "    .dataframe thead th {\n",
       "        text-align: right;\n",
       "    }\n",
       "</style>\n",
       "<table border=\"1\" class=\"dataframe\">\n",
       "  <thead>\n",
       "    <tr style=\"text-align: right;\">\n",
       "      <th></th>\n",
       "      <th>OrderID</th>\n",
       "      <th>CustomerID</th>\n",
       "      <th>OrderDate</th>\n",
       "      <th>ShippedDate</th>\n",
       "      <th>ShippingCost</th>\n",
       "      <th>ShipCountry</th>\n",
       "      <th>ShipCity</th>\n",
       "      <th>ShippingCompany</th>\n",
       "      <th>DeliveryDay</th>\n",
       "    </tr>\n",
       "  </thead>\n",
       "  <tbody>\n",
       "    <tr>\n",
       "      <th>0</th>\n",
       "      <td>1000.0</td>\n",
       "      <td>C001</td>\n",
       "      <td>2025-05-17</td>\n",
       "      <td>2025-07-30</td>\n",
       "      <td>234.09</td>\n",
       "      <td>Germany</td>\n",
       "      <td>Hamburg</td>\n",
       "      <td>Kiwilytics Goods Shipping LLC.</td>\n",
       "      <td>74.0</td>\n",
       "    </tr>\n",
       "    <tr>\n",
       "      <th>1</th>\n",
       "      <td>1001.0</td>\n",
       "      <td>C002</td>\n",
       "      <td>2025-01-26</td>\n",
       "      <td>2025-07-30</td>\n",
       "      <td>320.61</td>\n",
       "      <td>Canada</td>\n",
       "      <td>Montreal</td>\n",
       "      <td>UPS Worldwide</td>\n",
       "      <td>185.0</td>\n",
       "    </tr>\n",
       "    <tr>\n",
       "      <th>2</th>\n",
       "      <td>1002.0</td>\n",
       "      <td>C003</td>\n",
       "      <td>2025-03-08</td>\n",
       "      <td>2025-07-30</td>\n",
       "      <td>165.17</td>\n",
       "      <td>Canada</td>\n",
       "      <td>Vancouver</td>\n",
       "      <td>FedEx Logistics</td>\n",
       "      <td>144.0</td>\n",
       "    </tr>\n",
       "    <tr>\n",
       "      <th>3</th>\n",
       "      <td>1003.0</td>\n",
       "      <td>C004</td>\n",
       "      <td>2025-03-24</td>\n",
       "      <td>2025-07-30</td>\n",
       "      <td>12.55</td>\n",
       "      <td>Germany</td>\n",
       "      <td>Munich</td>\n",
       "      <td>Aramex International</td>\n",
       "      <td>128.0</td>\n",
       "    </tr>\n",
       "    <tr>\n",
       "      <th>4</th>\n",
       "      <td>1004.0</td>\n",
       "      <td>C005</td>\n",
       "      <td>2025-04-15</td>\n",
       "      <td>2025-07-30</td>\n",
       "      <td>186.36</td>\n",
       "      <td>Canada</td>\n",
       "      <td>Vancouver</td>\n",
       "      <td>FedEx Logistics</td>\n",
       "      <td>106.0</td>\n",
       "    </tr>\n",
       "  </tbody>\n",
       "</table>\n",
       "</div>"
      ],
      "text/plain": [
       "   OrderID CustomerID  OrderDate ShippedDate  ShippingCost ShipCountry  \\\n",
       "0   1000.0       C001 2025-05-17  2025-07-30        234.09     Germany   \n",
       "1   1001.0       C002 2025-01-26  2025-07-30        320.61      Canada   \n",
       "2   1002.0       C003 2025-03-08  2025-07-30        165.17      Canada   \n",
       "3   1003.0       C004 2025-03-24  2025-07-30         12.55     Germany   \n",
       "4   1004.0       C005 2025-04-15  2025-07-30        186.36      Canada   \n",
       "\n",
       "    ShipCity                  ShippingCompany  DeliveryDay  \n",
       "0    Hamburg   Kiwilytics Goods Shipping LLC.         74.0  \n",
       "1   Montreal                    UPS Worldwide        185.0  \n",
       "2  Vancouver                  FedEx Logistics        144.0  \n",
       "3     Munich             Aramex International        128.0  \n",
       "4  Vancouver                  FedEx Logistics        106.0  "
      ]
     },
     "execution_count": 13,
     "metadata": {},
     "output_type": "execute_result"
    }
   ],
   "source": [
    "# create deliveryDays column clculating the difference between shippingdate and ordwrdate\n",
    "\n",
    "df['DeliveryDay'] = (df['ShippedDate']-df['OrderDate']).dt.days\n",
    "\n",
    "df.head()"
   ]
  },
  {
   "cell_type": "code",
   "execution_count": 16,
   "id": "3fe4a5f3",
   "metadata": {},
   "outputs": [],
   "source": [
    "# Flags\n",
    "def get_status(x):\n",
    "    if pd.isna(x):\n",
    "        return \"Unknown\"\n",
    "    elif x > 15:\n",
    "        return \"Late\"\n",
    "    else:\n",
    "        return \"OnTime\"\n",
    "\n",
    "df['DeliveryStatus'] = df['DeliveryDay'].apply(get_status)\n"
   ]
  },
  {
   "cell_type": "code",
   "execution_count": 17,
   "id": "b02ae3dc",
   "metadata": {},
   "outputs": [
    {
     "data": {
      "text/html": [
       "<div>\n",
       "<style scoped>\n",
       "    .dataframe tbody tr th:only-of-type {\n",
       "        vertical-align: middle;\n",
       "    }\n",
       "\n",
       "    .dataframe tbody tr th {\n",
       "        vertical-align: top;\n",
       "    }\n",
       "\n",
       "    .dataframe thead th {\n",
       "        text-align: right;\n",
       "    }\n",
       "</style>\n",
       "<table border=\"1\" class=\"dataframe\">\n",
       "  <thead>\n",
       "    <tr style=\"text-align: right;\">\n",
       "      <th></th>\n",
       "      <th>OrderID</th>\n",
       "      <th>CustomerID</th>\n",
       "      <th>OrderDate</th>\n",
       "      <th>ShippedDate</th>\n",
       "      <th>ShippingCost</th>\n",
       "      <th>ShipCountry</th>\n",
       "      <th>ShipCity</th>\n",
       "      <th>ShippingCompany</th>\n",
       "      <th>DeliveryDay</th>\n",
       "      <th>DeliveryStatus</th>\n",
       "      <th>IsDomestic</th>\n",
       "    </tr>\n",
       "  </thead>\n",
       "  <tbody>\n",
       "    <tr>\n",
       "      <th>0</th>\n",
       "      <td>1000.0</td>\n",
       "      <td>C001</td>\n",
       "      <td>2025-05-17</td>\n",
       "      <td>2025-07-30</td>\n",
       "      <td>234.09</td>\n",
       "      <td>Germany</td>\n",
       "      <td>Hamburg</td>\n",
       "      <td>Kiwilytics Goods Shipping LLC.</td>\n",
       "      <td>74.0</td>\n",
       "      <td>Late</td>\n",
       "      <td>Yes</td>\n",
       "    </tr>\n",
       "    <tr>\n",
       "      <th>1</th>\n",
       "      <td>1001.0</td>\n",
       "      <td>C002</td>\n",
       "      <td>2025-01-26</td>\n",
       "      <td>2025-07-30</td>\n",
       "      <td>320.61</td>\n",
       "      <td>Canada</td>\n",
       "      <td>Montreal</td>\n",
       "      <td>UPS Worldwide</td>\n",
       "      <td>185.0</td>\n",
       "      <td>Late</td>\n",
       "      <td>No</td>\n",
       "    </tr>\n",
       "    <tr>\n",
       "      <th>2</th>\n",
       "      <td>1002.0</td>\n",
       "      <td>C003</td>\n",
       "      <td>2025-03-08</td>\n",
       "      <td>2025-07-30</td>\n",
       "      <td>165.17</td>\n",
       "      <td>Canada</td>\n",
       "      <td>Vancouver</td>\n",
       "      <td>FedEx Logistics</td>\n",
       "      <td>144.0</td>\n",
       "      <td>Late</td>\n",
       "      <td>No</td>\n",
       "    </tr>\n",
       "    <tr>\n",
       "      <th>3</th>\n",
       "      <td>1003.0</td>\n",
       "      <td>C004</td>\n",
       "      <td>2025-03-24</td>\n",
       "      <td>2025-07-30</td>\n",
       "      <td>12.55</td>\n",
       "      <td>Germany</td>\n",
       "      <td>Munich</td>\n",
       "      <td>Aramex International</td>\n",
       "      <td>128.0</td>\n",
       "      <td>Late</td>\n",
       "      <td>Yes</td>\n",
       "    </tr>\n",
       "    <tr>\n",
       "      <th>4</th>\n",
       "      <td>1004.0</td>\n",
       "      <td>C005</td>\n",
       "      <td>2025-04-15</td>\n",
       "      <td>2025-07-30</td>\n",
       "      <td>186.36</td>\n",
       "      <td>Canada</td>\n",
       "      <td>Vancouver</td>\n",
       "      <td>FedEx Logistics</td>\n",
       "      <td>106.0</td>\n",
       "      <td>Late</td>\n",
       "      <td>No</td>\n",
       "    </tr>\n",
       "  </tbody>\n",
       "</table>\n",
       "</div>"
      ],
      "text/plain": [
       "   OrderID CustomerID  OrderDate ShippedDate  ShippingCost ShipCountry  \\\n",
       "0   1000.0       C001 2025-05-17  2025-07-30        234.09     Germany   \n",
       "1   1001.0       C002 2025-01-26  2025-07-30        320.61      Canada   \n",
       "2   1002.0       C003 2025-03-08  2025-07-30        165.17      Canada   \n",
       "3   1003.0       C004 2025-03-24  2025-07-30         12.55     Germany   \n",
       "4   1004.0       C005 2025-04-15  2025-07-30        186.36      Canada   \n",
       "\n",
       "    ShipCity                  ShippingCompany  DeliveryDay DeliveryStatus  \\\n",
       "0    Hamburg   Kiwilytics Goods Shipping LLC.         74.0           Late   \n",
       "1   Montreal                    UPS Worldwide        185.0           Late   \n",
       "2  Vancouver                  FedEx Logistics        144.0           Late   \n",
       "3     Munich             Aramex International        128.0           Late   \n",
       "4  Vancouver                  FedEx Logistics        106.0           Late   \n",
       "\n",
       "  IsDomestic  \n",
       "0        Yes  \n",
       "1         No  \n",
       "2         No  \n",
       "3        Yes  \n",
       "4         No  "
      ]
     },
     "execution_count": 17,
     "metadata": {},
     "output_type": "execute_result"
    }
   ],
   "source": [
    "# Domestic vs International\n",
    "\n",
    "\n",
    "def check_domestic(country):\n",
    "    if country in domestic_countries:\n",
    "        return \"Yes\"\n",
    "    else:\n",
    "        return \"No\"\n",
    "\n",
    "domestic_countries = [\"Germany\"]\n",
    "\n",
    "df['IsDomestic'] = df['ShipCountry'].apply(check_domestic)\n",
    "\n",
    "df.head()"
   ]
  },
  {
   "cell_type": "markdown",
   "id": "32d5b16b",
   "metadata": {},
   "source": [
    "Grouping"
   ]
  },
  {
   "cell_type": "code",
   "execution_count": 25,
   "id": "a6fa503c",
   "metadata": {},
   "outputs": [
    {
     "name": "stdout",
     "output_type": "stream",
     "text": [
      "📊 Avg Shipping Cost by Company:\n",
      "ShippingCompany\n",
      "Aramex International              255.897451\n",
      "DHL Express                       233.282830\n",
      "FedEx Logistics                   229.702037\n",
      "Kiwilytics Goods Shipping LLC.    244.036829\n",
      "UPS Worldwide                     257.032174\n",
      "Name: ShippingCost, dtype: float64\n"
     ]
    }
   ],
   "source": [
    "# Grouping examples\n",
    "avg_shipping_by_company = df.groupby(\"ShippingCompany\")['ShippingCost'].mean()\n",
    "print(\"📊 Avg Shipping Cost by Company:\")\n",
    "print(avg_shipping_by_company)"
   ]
  },
  {
   "cell_type": "code",
   "execution_count": 26,
   "id": "cda5256a",
   "metadata": {},
   "outputs": [
    {
     "name": "stdout",
     "output_type": "stream",
     "text": [
      "\n",
      "✅ Final Dataset Snapshot:\n",
      "   OrderID CustomerID  OrderDate ShippedDate  ShippingCost ShipCountry  \\\n",
      "0   1000.0       C001 2025-05-17  2025-07-30        234.09     Germany   \n",
      "1   1001.0       C002 2025-01-26  2025-07-30        320.61      Canada   \n",
      "2   1002.0       C003 2025-03-08  2025-07-30        165.17      Canada   \n",
      "3   1003.0       C004 2025-03-24  2025-07-30         12.55     Germany   \n",
      "4   1004.0       C005 2025-04-15  2025-07-30        186.36      Canada   \n",
      "\n",
      "    ShipCity                 ShippingCompany  DeliveryDay DeliveryStatus  \\\n",
      "0    Hamburg  Kiwilytics Goods Shipping LLC.         74.0           Late   \n",
      "1   Montreal                   UPS Worldwide        185.0           Late   \n",
      "2  Vancouver                 FedEx Logistics        144.0           Late   \n",
      "3     Munich            Aramex International        128.0           Late   \n",
      "4  Vancouver                 FedEx Logistics        106.0           Late   \n",
      "\n",
      "  IsDomestic  \n",
      "0        Yes  \n",
      "1         No  \n",
      "2         No  \n",
      "3        Yes  \n",
      "4         No  \n",
      "\n",
      "📈 Delivery Status Breakdown:\n",
      "DeliveryStatus\n",
      "Late       190\n",
      "Unknown     50\n",
      "OnTime       5\n",
      "Name: count, dtype: int64\n",
      "\n",
      "🌎 Orders by Country:\n",
      "ShipCountry\n",
      "Uk           56\n",
      "Usa          49\n",
      "Canada       45\n",
      "Egypt        41\n",
      "Germany      38\n",
      "Palestine    16\n",
      "Name: count, dtype: int64\n",
      "\n",
      "🌎 Orders by City:\n",
      "ShipCity\n",
      "Liverpool      21\n",
      "Montreal       19\n",
      "Manchester     18\n",
      "Giza           18\n",
      "London         16\n",
      "Munich         14\n",
      "Chicago        13\n",
      "Toronto        13\n",
      "Cairo          13\n",
      "Houston        13\n",
      "Gaza           12\n",
      "New York       12\n",
      "Vancouver      12\n",
      "Hamburg        12\n",
      "Berlin         11\n",
      "Los Angeles    11\n",
      "Alexandria      9\n",
      "Unspecified     4\n",
      "Al Quds         4\n",
      "Name: count, dtype: int64\n",
      "\n",
      "📦 Top 3 Shipping Companies:\n",
      "ShippingCompany\n",
      "FedEx Logistics         54\n",
      "DHL Express             53\n",
      "Aramex International    51\n",
      "Name: count, dtype: int64\n"
     ]
    }
   ],
   "source": [
    "# Export, Reporting & Wrap-up\n",
    "# Export cleaned file\n",
    "df.to_csv(\"cleaned_orders_final.csv)\",index=False)\n",
    "\n",
    "# Final summary\n",
    "print(\"\\n✅ Final Dataset Snapshot:\")\n",
    "print(df.head())\n",
    "\n",
    "print(\"\\n📈 Delivery Status Breakdown:\")\n",
    "print(df['DeliveryStatus'].value_counts())\n",
    "\n",
    "\n",
    "print(\"\\n🌎 Orders by Country:\")\n",
    "print(df['ShipCountry'].value_counts())\n",
    "\n",
    "print(\"\\n🌎 Orders by City:\")\n",
    "print(df['ShipCity'].value_counts())\n",
    "\n",
    "print(\"\\n📦 Top 3 Shipping Companies:\")\n",
    "\n",
    "print(df['ShippingCompany'].value_counts().head(3))"
   ]
  },
  {
   "cell_type": "markdown",
   "id": "48add7fe",
   "metadata": {},
   "source": [
    "Exploratory Data Analysis\n",
    "\n",
    "You learned how to inspect raw data, identify data quality issues, and understand column types, missing values, and distributions.\n",
    "Data Cleaning Techniques You practiced handling:\n",
    "\n",
    "Invalid or missing dates\n",
    "Non-numeric and negative values in cost fields\n",
    "Nulls in critical columns like OrderID, CustomerID, and ShipCity\n",
    "Inconsistent formatting and standardization\n",
    "Feature Engineering\n",
    "You created new features like:\n",
    "\n",
    "DeliveryDays: the number of days between order and shipment\n",
    "DeliveryStatus: a flag for late vs on-time shipments\n",
    "IsDomestic: to distinguish local vs international orders\n",
    "Exporting Cleaned Data\n",
    "You prepared a final, cleaned dataset ready for analytics, reporting, or loading into a database."
   ]
  }
 ],
 "metadata": {
  "kernelspec": {
   "display_name": "Python 3",
   "language": "python",
   "name": "python3"
  },
  "language_info": {
   "codemirror_mode": {
    "name": "ipython",
    "version": 3
   },
   "file_extension": ".py",
   "mimetype": "text/x-python",
   "name": "python",
   "nbconvert_exporter": "python",
   "pygments_lexer": "ipython3",
   "version": "3.13.7"
  }
 },
 "nbformat": 4,
 "nbformat_minor": 5
}
